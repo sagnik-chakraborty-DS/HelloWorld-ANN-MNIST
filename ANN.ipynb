{
 "cells": [
  {
   "cell_type": "code",
   "execution_count": 1,
   "id": "bcece3fb",
   "metadata": {},
   "outputs": [],
   "source": [
    "import tensorflow as tf"
   ]
  },
  {
   "cell_type": "code",
   "execution_count": 2,
   "id": "42485fd9",
   "metadata": {},
   "outputs": [
    {
     "data": {
      "text/plain": [
       "'2.8.0'"
      ]
     },
     "execution_count": 2,
     "metadata": {},
     "output_type": "execute_result"
    }
   ],
   "source": [
    "tf.__version__"
   ]
  },
  {
   "cell_type": "code",
   "execution_count": 3,
   "id": "52712877",
   "metadata": {},
   "outputs": [],
   "source": [
    "# tensor fow is low level api\n",
    "# keras is high level api\n",
    "# keras is wraper of tensor folow function"
   ]
  },
  {
   "cell_type": "code",
   "execution_count": 5,
   "id": "fab85fc4",
   "metadata": {},
   "outputs": [
    {
     "data": {
      "text/plain": [
       "'2.8.0'"
      ]
     },
     "execution_count": 5,
     "metadata": {},
     "output_type": "execute_result"
    }
   ],
   "source": [
    "tf.keras.__version__"
   ]
  },
  {
   "cell_type": "code",
   "execution_count": 6,
   "id": "e2bd7adc",
   "metadata": {},
   "outputs": [
    {
     "data": {
      "text/plain": [
       "[]"
      ]
     },
     "execution_count": 6,
     "metadata": {},
     "output_type": "execute_result"
    }
   ],
   "source": [
    "tf.config.list_physical_devices(\"GPU\")"
   ]
  },
  {
   "cell_type": "code",
   "execution_count": 7,
   "id": "b0353c84",
   "metadata": {},
   "outputs": [
    {
     "data": {
      "text/plain": [
       "[PhysicalDevice(name='/physical_device:CPU:0', device_type='CPU')]"
      ]
     },
     "execution_count": 7,
     "metadata": {},
     "output_type": "execute_result"
    }
   ],
   "source": [
    "tf.config.list_physical_devices(\"CPU\")"
   ]
  },
  {
   "cell_type": "code",
   "execution_count": 9,
   "id": "d154e8a0",
   "metadata": {},
   "outputs": [],
   "source": [
    "import numpy as np\n",
    "import matplotlib.pyplot as plt\n",
    "import pandas as pd"
   ]
  },
  {
   "cell_type": "code",
   "execution_count": 11,
   "id": "5d596d68",
   "metadata": {},
   "outputs": [],
   "source": [
    "# Sequential API\n",
    "# Data of hand written digit\n",
    "# Each data 2d array(28*28)\n",
    "# 10 class (0 to 9)"
   ]
  },
  {
   "cell_type": "code",
   "execution_count": 15,
   "id": "da5a7f42",
   "metadata": {},
   "outputs": [
    {
     "name": "stdout",
     "output_type": "stream",
     "text": [
      "Downloading data from https://storage.googleapis.com/tensorflow/tf-keras-datasets/mnist.npz\n",
      "11493376/11490434 [==============================] - 4s 0us/step\n",
      "11501568/11490434 [==============================] - 4s 0us/step\n"
     ]
    }
   ],
   "source": [
    "mnist = tf.keras.datasets.mnist\n",
    "(X_train_full, y_train_full), (X_test, y_test) = mnist.load_data()"
   ]
  },
  {
   "cell_type": "code",
   "execution_count": 14,
   "id": "4116c627",
   "metadata": {},
   "outputs": [
    {
     "data": {
      "text/plain": [
       "<module 'keras.api._v2.keras.datasets.mnist' from 'C:\\\\Users\\\\Sagnik\\\\anaconda3\\\\lib\\\\site-packages\\\\keras\\\\api\\\\_v2\\\\keras\\\\datasets\\\\mnist\\\\__init__.py'>"
      ]
     },
     "execution_count": 14,
     "metadata": {},
     "output_type": "execute_result"
    }
   ],
   "source": [
    "mnist"
   ]
  },
  {
   "cell_type": "code",
   "execution_count": 16,
   "id": "4948a2dc",
   "metadata": {},
   "outputs": [
    {
     "data": {
      "text/plain": [
       "((60000, 28, 28), dtype('uint8'))"
      ]
     },
     "execution_count": 16,
     "metadata": {},
     "output_type": "execute_result"
    }
   ],
   "source": [
    "X_train_full.shape, X_train_full.dtype"
   ]
  },
  {
   "cell_type": "code",
   "execution_count": 17,
   "id": "14a8d351",
   "metadata": {},
   "outputs": [
    {
     "data": {
      "text/plain": [
       "((10000, 28, 28), dtype('uint8'))"
      ]
     },
     "execution_count": 17,
     "metadata": {},
     "output_type": "execute_result"
    }
   ],
   "source": [
    "X_test.shape, X_test.dtype"
   ]
  },
  {
   "cell_type": "code",
   "execution_count": 19,
   "id": "1393262b",
   "metadata": {},
   "outputs": [
    {
     "data": {
      "text/plain": [
       "((60000,), (10000,))"
      ]
     },
     "execution_count": 19,
     "metadata": {},
     "output_type": "execute_result"
    }
   ],
   "source": [
    " y_train_full.shape, y_test.shape"
   ]
  },
  {
   "cell_type": "code",
   "execution_count": 22,
   "id": "fac28995",
   "metadata": {
    "collapsed": true
   },
   "outputs": [
    {
     "data": {
      "text/plain": [
       "array([[  0,   0,   0,   0,   0,   0,   0,   0,   0,   0,   0,   0,   0,\n",
       "          0,   0,   0,   0,   0,   0,   0,   0,   0,   0,   0,   0,   0,\n",
       "          0,   0],\n",
       "       [  0,   0,   0,   0,   0,   0,   0,   0,   0,   0,   0,   0,   0,\n",
       "          0,   0,   0,   0,   0,   0,   0,   0,   0,   0,   0,   0,   0,\n",
       "          0,   0],\n",
       "       [  0,   0,   0,   0,   0,   0,   0,   0,   0,   0,   0,   0,   0,\n",
       "          0,   0,   0,   0,   0,   0,   0,   0,   0,   0,   0,   0,   0,\n",
       "          0,   0],\n",
       "       [  0,   0,   0,   0,   0,   0,   0,   0,   0,   0,   0,   0,   0,\n",
       "          0,   0,   0,   0,   0,   0,   0,   0,   0,   0,   0,   0,   0,\n",
       "          0,   0],\n",
       "       [  0,   0,   0,   0,   0,   0,   0,   0,   0,   0,   0,   0,   0,\n",
       "          0,   0,   0,   0,   0,   0,   0,   0,   0,   0,   0,   0,   0,\n",
       "          0,   0],\n",
       "       [  0,   0,   0,   0,   0,   0,   0,   0,   0,   0,   0,   0,   3,\n",
       "         18,  18,  18, 126, 136, 175,  26, 166, 255, 247, 127,   0,   0,\n",
       "          0,   0],\n",
       "       [  0,   0,   0,   0,   0,   0,   0,   0,  30,  36,  94, 154, 170,\n",
       "        253, 253, 253, 253, 253, 225, 172, 253, 242, 195,  64,   0,   0,\n",
       "          0,   0],\n",
       "       [  0,   0,   0,   0,   0,   0,   0,  49, 238, 253, 253, 253, 253,\n",
       "        253, 253, 253, 253, 251,  93,  82,  82,  56,  39,   0,   0,   0,\n",
       "          0,   0],\n",
       "       [  0,   0,   0,   0,   0,   0,   0,  18, 219, 253, 253, 253, 253,\n",
       "        253, 198, 182, 247, 241,   0,   0,   0,   0,   0,   0,   0,   0,\n",
       "          0,   0],\n",
       "       [  0,   0,   0,   0,   0,   0,   0,   0,  80, 156, 107, 253, 253,\n",
       "        205,  11,   0,  43, 154,   0,   0,   0,   0,   0,   0,   0,   0,\n",
       "          0,   0],\n",
       "       [  0,   0,   0,   0,   0,   0,   0,   0,   0,  14,   1, 154, 253,\n",
       "         90,   0,   0,   0,   0,   0,   0,   0,   0,   0,   0,   0,   0,\n",
       "          0,   0],\n",
       "       [  0,   0,   0,   0,   0,   0,   0,   0,   0,   0,   0, 139, 253,\n",
       "        190,   2,   0,   0,   0,   0,   0,   0,   0,   0,   0,   0,   0,\n",
       "          0,   0],\n",
       "       [  0,   0,   0,   0,   0,   0,   0,   0,   0,   0,   0,  11, 190,\n",
       "        253,  70,   0,   0,   0,   0,   0,   0,   0,   0,   0,   0,   0,\n",
       "          0,   0],\n",
       "       [  0,   0,   0,   0,   0,   0,   0,   0,   0,   0,   0,   0,  35,\n",
       "        241, 225, 160, 108,   1,   0,   0,   0,   0,   0,   0,   0,   0,\n",
       "          0,   0],\n",
       "       [  0,   0,   0,   0,   0,   0,   0,   0,   0,   0,   0,   0,   0,\n",
       "         81, 240, 253, 253, 119,  25,   0,   0,   0,   0,   0,   0,   0,\n",
       "          0,   0],\n",
       "       [  0,   0,   0,   0,   0,   0,   0,   0,   0,   0,   0,   0,   0,\n",
       "          0,  45, 186, 253, 253, 150,  27,   0,   0,   0,   0,   0,   0,\n",
       "          0,   0],\n",
       "       [  0,   0,   0,   0,   0,   0,   0,   0,   0,   0,   0,   0,   0,\n",
       "          0,   0,  16,  93, 252, 253, 187,   0,   0,   0,   0,   0,   0,\n",
       "          0,   0],\n",
       "       [  0,   0,   0,   0,   0,   0,   0,   0,   0,   0,   0,   0,   0,\n",
       "          0,   0,   0,   0, 249, 253, 249,  64,   0,   0,   0,   0,   0,\n",
       "          0,   0],\n",
       "       [  0,   0,   0,   0,   0,   0,   0,   0,   0,   0,   0,   0,   0,\n",
       "          0,  46, 130, 183, 253, 253, 207,   2,   0,   0,   0,   0,   0,\n",
       "          0,   0],\n",
       "       [  0,   0,   0,   0,   0,   0,   0,   0,   0,   0,   0,   0,  39,\n",
       "        148, 229, 253, 253, 253, 250, 182,   0,   0,   0,   0,   0,   0,\n",
       "          0,   0],\n",
       "       [  0,   0,   0,   0,   0,   0,   0,   0,   0,   0,  24, 114, 221,\n",
       "        253, 253, 253, 253, 201,  78,   0,   0,   0,   0,   0,   0,   0,\n",
       "          0,   0],\n",
       "       [  0,   0,   0,   0,   0,   0,   0,   0,  23,  66, 213, 253, 253,\n",
       "        253, 253, 198,  81,   2,   0,   0,   0,   0,   0,   0,   0,   0,\n",
       "          0,   0],\n",
       "       [  0,   0,   0,   0,   0,   0,  18, 171, 219, 253, 253, 253, 253,\n",
       "        195,  80,   9,   0,   0,   0,   0,   0,   0,   0,   0,   0,   0,\n",
       "          0,   0],\n",
       "       [  0,   0,   0,   0,  55, 172, 226, 253, 253, 253, 253, 244, 133,\n",
       "         11,   0,   0,   0,   0,   0,   0,   0,   0,   0,   0,   0,   0,\n",
       "          0,   0],\n",
       "       [  0,   0,   0,   0, 136, 253, 253, 253, 212, 135, 132,  16,   0,\n",
       "          0,   0,   0,   0,   0,   0,   0,   0,   0,   0,   0,   0,   0,\n",
       "          0,   0],\n",
       "       [  0,   0,   0,   0,   0,   0,   0,   0,   0,   0,   0,   0,   0,\n",
       "          0,   0,   0,   0,   0,   0,   0,   0,   0,   0,   0,   0,   0,\n",
       "          0,   0],\n",
       "       [  0,   0,   0,   0,   0,   0,   0,   0,   0,   0,   0,   0,   0,\n",
       "          0,   0,   0,   0,   0,   0,   0,   0,   0,   0,   0,   0,   0,\n",
       "          0,   0],\n",
       "       [  0,   0,   0,   0,   0,   0,   0,   0,   0,   0,   0,   0,   0,\n",
       "          0,   0,   0,   0,   0,   0,   0,   0,   0,   0,   0,   0,   0,\n",
       "          0,   0]], dtype=uint8)"
      ]
     },
     "execution_count": 22,
     "metadata": {},
     "output_type": "execute_result"
    }
   ],
   "source": [
    "X_train_full[0]"
   ]
  },
  {
   "cell_type": "code",
   "execution_count": 20,
   "id": "8ce46d74",
   "metadata": {},
   "outputs": [],
   "source": [
    "# Normalize data and create Validation data\n",
    "X_valid, X_train = X_train_full[: 5000] / 255., X_train_full[5000: ]/255.\n",
    "y_valid, y_train = y_train_full[: 5000], y_train_full[5000:]\n",
    "\n",
    "X_test = X_test/255."
   ]
  },
  {
   "cell_type": "code",
   "execution_count": 21,
   "id": "c55e9575",
   "metadata": {
    "collapsed": true
   },
   "outputs": [
    {
     "data": {
      "text/plain": [
       "array([[0.        , 0.        , 0.        , 0.        , 0.        ,\n",
       "        0.        , 0.        , 0.        , 0.        , 0.        ,\n",
       "        0.        , 0.        , 0.        , 0.        , 0.        ,\n",
       "        0.        , 0.        , 0.        , 0.        , 0.        ,\n",
       "        0.        , 0.        , 0.        , 0.        , 0.        ,\n",
       "        0.        , 0.        , 0.        ],\n",
       "       [0.        , 0.        , 0.        , 0.        , 0.        ,\n",
       "        0.        , 0.        , 0.        , 0.        , 0.        ,\n",
       "        0.        , 0.        , 0.        , 0.        , 0.        ,\n",
       "        0.        , 0.        , 0.        , 0.        , 0.        ,\n",
       "        0.        , 0.        , 0.        , 0.        , 0.        ,\n",
       "        0.        , 0.        , 0.        ],\n",
       "       [0.        , 0.        , 0.        , 0.        , 0.        ,\n",
       "        0.        , 0.        , 0.        , 0.        , 0.        ,\n",
       "        0.        , 0.        , 0.        , 0.        , 0.        ,\n",
       "        0.        , 0.        , 0.        , 0.        , 0.        ,\n",
       "        0.        , 0.        , 0.        , 0.        , 0.        ,\n",
       "        0.        , 0.        , 0.        ],\n",
       "       [0.        , 0.        , 0.        , 0.        , 0.        ,\n",
       "        0.        , 0.        , 0.        , 0.        , 0.        ,\n",
       "        0.        , 0.        , 0.        , 0.        , 0.        ,\n",
       "        0.        , 0.        , 0.        , 0.        , 0.        ,\n",
       "        0.        , 0.        , 0.        , 0.        , 0.        ,\n",
       "        0.        , 0.        , 0.        ],\n",
       "       [0.        , 0.        , 0.        , 0.        , 0.        ,\n",
       "        0.        , 0.        , 0.        , 0.        , 0.        ,\n",
       "        0.        , 0.        , 0.        , 0.        , 0.        ,\n",
       "        0.        , 0.        , 0.        , 0.        , 0.        ,\n",
       "        0.        , 0.        , 0.        , 0.        , 0.        ,\n",
       "        0.        , 0.        , 0.        ],\n",
       "       [0.        , 0.        , 0.        , 0.        , 0.        ,\n",
       "        0.        , 0.        , 0.        , 0.        , 0.        ,\n",
       "        0.        , 0.        , 0.        , 0.        , 0.        ,\n",
       "        0.        , 0.        , 0.        , 0.        , 0.        ,\n",
       "        0.        , 0.        , 0.        , 0.        , 0.        ,\n",
       "        0.        , 0.        , 0.        ],\n",
       "       [0.        , 0.        , 0.        , 0.        , 0.        ,\n",
       "        0.        , 0.        , 0.        , 0.        , 0.        ,\n",
       "        0.        , 0.        , 0.        , 0.        , 0.        ,\n",
       "        0.        , 0.        , 0.        , 0.        , 0.        ,\n",
       "        0.        , 0.        , 0.        , 0.        , 0.        ,\n",
       "        0.        , 0.        , 0.        ],\n",
       "       [0.        , 0.        , 0.        , 0.        , 0.        ,\n",
       "        0.        , 0.        , 0.        , 0.        , 0.        ,\n",
       "        0.        , 0.38039216, 0.37647059, 0.30196078, 0.4627451 ,\n",
       "        0.23921569, 0.        , 0.        , 0.        , 0.        ,\n",
       "        0.        , 0.        , 0.        , 0.        , 0.        ,\n",
       "        0.        , 0.        , 0.        ],\n",
       "       [0.        , 0.        , 0.        , 0.35294118, 0.54117647,\n",
       "        0.92156863, 0.92156863, 0.92156863, 0.92156863, 0.92156863,\n",
       "        0.92156863, 0.98431373, 0.98431373, 0.97254902, 0.99607843,\n",
       "        0.96078431, 0.92156863, 0.74509804, 0.08235294, 0.        ,\n",
       "        0.        , 0.        , 0.        , 0.        , 0.        ,\n",
       "        0.        , 0.        , 0.        ],\n",
       "       [0.        , 0.        , 0.54901961, 0.98431373, 0.99607843,\n",
       "        0.99607843, 0.99607843, 0.99607843, 0.99607843, 0.99607843,\n",
       "        0.99607843, 0.99607843, 0.99607843, 0.99607843, 0.99607843,\n",
       "        0.99607843, 0.99607843, 0.99607843, 0.74117647, 0.09019608,\n",
       "        0.        , 0.        , 0.        , 0.        , 0.        ,\n",
       "        0.        , 0.        , 0.        ],\n",
       "       [0.        , 0.        , 0.88627451, 0.99607843, 0.81568627,\n",
       "        0.78039216, 0.78039216, 0.78039216, 0.78039216, 0.54509804,\n",
       "        0.23921569, 0.23921569, 0.23921569, 0.23921569, 0.23921569,\n",
       "        0.50196078, 0.87058824, 0.99607843, 0.99607843, 0.74117647,\n",
       "        0.08235294, 0.        , 0.        , 0.        , 0.        ,\n",
       "        0.        , 0.        , 0.        ],\n",
       "       [0.        , 0.        , 0.14901961, 0.32156863, 0.05098039,\n",
       "        0.        , 0.        , 0.        , 0.        , 0.        ,\n",
       "        0.        , 0.        , 0.        , 0.        , 0.        ,\n",
       "        0.        , 0.13333333, 0.83529412, 0.99607843, 0.99607843,\n",
       "        0.45098039, 0.        , 0.        , 0.        , 0.        ,\n",
       "        0.        , 0.        , 0.        ],\n",
       "       [0.        , 0.        , 0.        , 0.        , 0.        ,\n",
       "        0.        , 0.        , 0.        , 0.        , 0.        ,\n",
       "        0.        , 0.        , 0.        , 0.        , 0.        ,\n",
       "        0.        , 0.        , 0.32941176, 0.99607843, 0.99607843,\n",
       "        0.91764706, 0.        , 0.        , 0.        , 0.        ,\n",
       "        0.        , 0.        , 0.        ],\n",
       "       [0.        , 0.        , 0.        , 0.        , 0.        ,\n",
       "        0.        , 0.        , 0.        , 0.        , 0.        ,\n",
       "        0.        , 0.        , 0.        , 0.        , 0.        ,\n",
       "        0.        , 0.        , 0.32941176, 0.99607843, 0.99607843,\n",
       "        0.91764706, 0.        , 0.        , 0.        , 0.        ,\n",
       "        0.        , 0.        , 0.        ],\n",
       "       [0.        , 0.        , 0.        , 0.        , 0.        ,\n",
       "        0.        , 0.        , 0.        , 0.        , 0.        ,\n",
       "        0.        , 0.        , 0.        , 0.        , 0.        ,\n",
       "        0.        , 0.41568627, 0.61568627, 0.99607843, 0.99607843,\n",
       "        0.95294118, 0.2       , 0.        , 0.        , 0.        ,\n",
       "        0.        , 0.        , 0.        ],\n",
       "       [0.        , 0.        , 0.        , 0.        , 0.        ,\n",
       "        0.        , 0.        , 0.        , 0.        , 0.        ,\n",
       "        0.        , 0.09803922, 0.45882353, 0.89411765, 0.89411765,\n",
       "        0.89411765, 0.99215686, 0.99607843, 0.99607843, 0.99607843,\n",
       "        0.99607843, 0.94117647, 0.        , 0.        , 0.        ,\n",
       "        0.        , 0.        , 0.        ],\n",
       "       [0.        , 0.        , 0.        , 0.        , 0.        ,\n",
       "        0.        , 0.        , 0.        , 0.        , 0.26666667,\n",
       "        0.46666667, 0.8627451 , 0.99607843, 0.99607843, 0.99607843,\n",
       "        0.99607843, 0.99607843, 0.99607843, 0.99607843, 0.99607843,\n",
       "        0.99607843, 0.55686275, 0.        , 0.        , 0.        ,\n",
       "        0.        , 0.        , 0.        ],\n",
       "       [0.        , 0.        , 0.        , 0.        , 0.        ,\n",
       "        0.        , 0.        , 0.14509804, 0.73333333, 0.99215686,\n",
       "        0.99607843, 0.99607843, 0.99607843, 0.8745098 , 0.80784314,\n",
       "        0.80784314, 0.29411765, 0.26666667, 0.84313725, 0.99607843,\n",
       "        0.99607843, 0.45882353, 0.        , 0.        , 0.        ,\n",
       "        0.        , 0.        , 0.        ],\n",
       "       [0.        , 0.        , 0.        , 0.        , 0.        ,\n",
       "        0.        , 0.44313725, 0.85882353, 0.99607843, 0.94901961,\n",
       "        0.89019608, 0.45098039, 0.34901961, 0.12156863, 0.        ,\n",
       "        0.        , 0.        , 0.        , 0.78431373, 0.99607843,\n",
       "        0.94509804, 0.16078431, 0.        , 0.        , 0.        ,\n",
       "        0.        , 0.        , 0.        ],\n",
       "       [0.        , 0.        , 0.        , 0.        , 0.        ,\n",
       "        0.        , 0.6627451 , 0.99607843, 0.69019608, 0.24313725,\n",
       "        0.        , 0.        , 0.        , 0.        , 0.        ,\n",
       "        0.        , 0.        , 0.18823529, 0.90588235, 0.99607843,\n",
       "        0.91764706, 0.        , 0.        , 0.        , 0.        ,\n",
       "        0.        , 0.        , 0.        ],\n",
       "       [0.        , 0.        , 0.        , 0.        , 0.        ,\n",
       "        0.        , 0.07058824, 0.48627451, 0.        , 0.        ,\n",
       "        0.        , 0.        , 0.        , 0.        , 0.        ,\n",
       "        0.        , 0.        , 0.32941176, 0.99607843, 0.99607843,\n",
       "        0.65098039, 0.        , 0.        , 0.        , 0.        ,\n",
       "        0.        , 0.        , 0.        ],\n",
       "       [0.        , 0.        , 0.        , 0.        , 0.        ,\n",
       "        0.        , 0.        , 0.        , 0.        , 0.        ,\n",
       "        0.        , 0.        , 0.        , 0.        , 0.        ,\n",
       "        0.        , 0.        , 0.54509804, 0.99607843, 0.93333333,\n",
       "        0.22352941, 0.        , 0.        , 0.        , 0.        ,\n",
       "        0.        , 0.        , 0.        ],\n",
       "       [0.        , 0.        , 0.        , 0.        , 0.        ,\n",
       "        0.        , 0.        , 0.        , 0.        , 0.        ,\n",
       "        0.        , 0.        , 0.        , 0.        , 0.        ,\n",
       "        0.        , 0.82352941, 0.98039216, 0.99607843, 0.65882353,\n",
       "        0.        , 0.        , 0.        , 0.        , 0.        ,\n",
       "        0.        , 0.        , 0.        ],\n",
       "       [0.        , 0.        , 0.        , 0.        , 0.        ,\n",
       "        0.        , 0.        , 0.        , 0.        , 0.        ,\n",
       "        0.        , 0.        , 0.        , 0.        , 0.        ,\n",
       "        0.        , 0.94901961, 0.99607843, 0.9372549 , 0.22352941,\n",
       "        0.        , 0.        , 0.        , 0.        , 0.        ,\n",
       "        0.        , 0.        , 0.        ],\n",
       "       [0.        , 0.        , 0.        , 0.        , 0.        ,\n",
       "        0.        , 0.        , 0.        , 0.        , 0.        ,\n",
       "        0.        , 0.        , 0.        , 0.        , 0.        ,\n",
       "        0.34901961, 0.98431373, 0.94509804, 0.3372549 , 0.        ,\n",
       "        0.        , 0.        , 0.        , 0.        , 0.        ,\n",
       "        0.        , 0.        , 0.        ],\n",
       "       [0.        , 0.        , 0.        , 0.        , 0.        ,\n",
       "        0.        , 0.        , 0.        , 0.        , 0.        ,\n",
       "        0.        , 0.        , 0.        , 0.        , 0.01960784,\n",
       "        0.80784314, 0.96470588, 0.61568627, 0.        , 0.        ,\n",
       "        0.        , 0.        , 0.        , 0.        , 0.        ,\n",
       "        0.        , 0.        , 0.        ],\n",
       "       [0.        , 0.        , 0.        , 0.        , 0.        ,\n",
       "        0.        , 0.        , 0.        , 0.        , 0.        ,\n",
       "        0.        , 0.        , 0.        , 0.        , 0.01568627,\n",
       "        0.45882353, 0.27058824, 0.        , 0.        , 0.        ,\n",
       "        0.        , 0.        , 0.        , 0.        , 0.        ,\n",
       "        0.        , 0.        , 0.        ],\n",
       "       [0.        , 0.        , 0.        , 0.        , 0.        ,\n",
       "        0.        , 0.        , 0.        , 0.        , 0.        ,\n",
       "        0.        , 0.        , 0.        , 0.        , 0.        ,\n",
       "        0.        , 0.        , 0.        , 0.        , 0.        ,\n",
       "        0.        , 0.        , 0.        , 0.        , 0.        ,\n",
       "        0.        , 0.        , 0.        ]])"
      ]
     },
     "execution_count": 21,
     "metadata": {},
     "output_type": "execute_result"
    }
   ],
   "source": [
    "X_train[0]"
   ]
  },
  {
   "cell_type": "code",
   "execution_count": 27,
   "id": "1e5f2b44",
   "metadata": {},
   "outputs": [
    {
     "data": {
      "image/png": "[encoded data removed]",
      "text/plain": [
       "<Figure size 432x288 with 1 Axes>"
      ]
     },
     "metadata": {
      "needs_background": "light"
     },
     "output_type": "display_data"
    },
    {
     "data": {
      "text/plain": [
       "8"
      ]
     },
     "execution_count": 27,
     "metadata": {},
     "output_type": "execute_result"
    }
   ],
   "source": [
    "plt.imshow(X_train[5], cmap=\"binary\")\n",
    "plt.axis(\"off\")\n",
    "plt.show()\n",
    "y_train[5]"
   ]
  },
  {
   "cell_type": "code",
   "execution_count": 25,
   "id": "d8b63d67",
   "metadata": {},
   "outputs": [
    {
     "data": {
      "text/plain": [
       "<AxesSubplot:>"
      ]
     },
     "execution_count": 25,
     "metadata": {},
     "output_type": "execute_result"
    },
    {
     "data": {
      "image/png": "[encoded data removed]",
      "text/plain": [
       "<Figure size 1080x1080 with 2 Axes>"
      ]
     },
     "metadata": {
      "needs_background": "light"
     },
     "output_type": "display_data"
    }
   ],
   "source": [
    "import seaborn as sns\n",
    "plt.figure(figsize=(15,15))\n",
    "sns.heatmap(X_train[5], annot=True, cmap=\"binary\")"
   ]
  },
  {
   "cell_type": "code",
   "execution_count": 28,
   "id": "76f7c293",
   "metadata": {},
   "outputs": [],
   "source": [
    "# Sequential Means every layer connected not skipping the layers\n",
    "LAYERS = [\n",
    "          tf.keras.layers.Flatten(input_shape=[28, 28], name=\"inputLayer\"),# conver 2d array to 1d array\n",
    "          tf.keras.layers.Dense(300, activation=\"relu\", name=\"hiddenLayer1\"),\n",
    "          tf.keras.layers.Dense(100, activation=\"relu\", name=\"hiddenLayer2\"),\n",
    "          tf.keras.layers.Dense(10, activation=\"softmax\", name=\"outputLayer\"),\n",
    "          \n",
    "]"
   ]
  },
  {
   "cell_type": "code",
   "execution_count": 29,
   "id": "61caeb31",
   "metadata": {},
   "outputs": [],
   "source": [
    "model = tf.keras.models.Sequential(LAYERS)"
   ]
  },
  {
   "cell_type": "code",
   "execution_count": 30,
   "id": "e07240e3",
   "metadata": {},
   "outputs": [
    {
     "data": {
      "text/plain": [
       "[<keras.layers.core.flatten.Flatten at 0x1f5995a5a60>,\n",
       " <keras.layers.core.dense.Dense at 0x1f5994fd550>,\n",
       " <keras.layers.core.dense.Dense at 0x1f59921e820>,\n",
       " <keras.layers.core.dense.Dense at 0x1f59921e190>]"
      ]
     },
     "execution_count": 30,
     "metadata": {},
     "output_type": "execute_result"
    }
   ],
   "source": [
    "model.layers"
   ]
  },
  {
   "cell_type": "code",
   "execution_count": 31,
   "id": "1146b0a6",
   "metadata": {},
   "outputs": [
    {
     "name": "stdout",
     "output_type": "stream",
     "text": [
      "Model: \"sequential\"\n",
      "_________________________________________________________________\n",
      " Layer (type)                Output Shape              Param #   \n",
      "=================================================================\n",
      " inputLayer (Flatten)        (None, 784)               0         \n",
      "                                                                 \n",
      " hiddenLayer1 (Dense)        (None, 300)               235500    \n",
      "                                                                 \n",
      " hiddenLayer2 (Dense)        (None, 100)               30100     \n",
      "                                                                 \n",
      " outputLayer (Dense)         (None, 10)                1010      \n",
      "                                                                 \n",
      "=================================================================\n",
      "Total params: 266,610\n",
      "Trainable params: 266,610\n",
      "Non-trainable params: 0\n",
      "_________________________________________________________________\n"
     ]
    }
   ],
   "source": [
    "model.summary()"
   ]
  },
  {
   "cell_type": "code",
   "execution_count": 35,
   "id": "7dc491e5",
   "metadata": {},
   "outputs": [
    {
     "name": "stdout",
     "output_type": "stream",
     "text": [
      "hiddenLayer1 (Dense) weight-> 235200 bias-> 300 total parameter--> 235500\n"
     ]
    }
   ],
   "source": [
    "print(\"hiddenLayer1 (Dense) weight->\",784*300,\"bias->\",300,\"total parameter-->\",(784*300)+300)"
   ]
  },
  {
   "cell_type": "code",
   "execution_count": 36,
   "id": "13178de1",
   "metadata": {},
   "outputs": [
    {
     "data": {
      "text/plain": [
       "<keras.layers.core.dense.Dense at 0x1f5994fd550>"
      ]
     },
     "execution_count": 36,
     "metadata": {},
     "output_type": "execute_result"
    }
   ],
   "source": [
    "hidden1 = model.layers[1]\n",
    "\n",
    "model.get_layer(hidden1.name)"
   ]
  },
  {
   "cell_type": "code",
   "execution_count": 37,
   "id": "1aa795f3",
   "metadata": {},
   "outputs": [
    {
     "data": {
      "text/plain": [
       "[array([[ 0.03776532, -0.00818976,  0.06714058, ..., -0.03325413,\n",
       "         -0.06398463, -0.01120917],\n",
       "        [-0.06997697, -0.04034141,  0.0258134 , ..., -0.0316998 ,\n",
       "         -0.042928  ,  0.05998226],\n",
       "        [ 0.0433174 ,  0.0105058 , -0.06403823, ...,  0.05928153,\n",
       "         -0.04110189, -0.00953697],\n",
       "        ...,\n",
       "        [ 0.00265802,  0.06147791, -0.03306568, ..., -0.04429651,\n",
       "          0.01581894, -0.04678744],\n",
       "        [ 0.03204884,  0.06816876, -0.07036649, ...,  0.05909133,\n",
       "          0.03911626, -0.06183361],\n",
       "        [ 0.01613682, -0.04690266,  0.04127772, ..., -0.05187543,\n",
       "         -0.06194073, -0.04924764]], dtype=float32),\n",
       " array([0., 0., 0., 0., 0., 0., 0., 0., 0., 0., 0., 0., 0., 0., 0., 0., 0.,\n",
       "        0., 0., 0., 0., 0., 0., 0., 0., 0., 0., 0., 0., 0., 0., 0., 0., 0.,\n",
       "        0., 0., 0., 0., 0., 0., 0., 0., 0., 0., 0., 0., 0., 0., 0., 0., 0.,\n",
       "        0., 0., 0., 0., 0., 0., 0., 0., 0., 0., 0., 0., 0., 0., 0., 0., 0.,\n",
       "        0., 0., 0., 0., 0., 0., 0., 0., 0., 0., 0., 0., 0., 0., 0., 0., 0.,\n",
       "        0., 0., 0., 0., 0., 0., 0., 0., 0., 0., 0., 0., 0., 0., 0., 0., 0.,\n",
       "        0., 0., 0., 0., 0., 0., 0., 0., 0., 0., 0., 0., 0., 0., 0., 0., 0.,\n",
       "        0., 0., 0., 0., 0., 0., 0., 0., 0., 0., 0., 0., 0., 0., 0., 0., 0.,\n",
       "        0., 0., 0., 0., 0., 0., 0., 0., 0., 0., 0., 0., 0., 0., 0., 0., 0.,\n",
       "        0., 0., 0., 0., 0., 0., 0., 0., 0., 0., 0., 0., 0., 0., 0., 0., 0.,\n",
       "        0., 0., 0., 0., 0., 0., 0., 0., 0., 0., 0., 0., 0., 0., 0., 0., 0.,\n",
       "        0., 0., 0., 0., 0., 0., 0., 0., 0., 0., 0., 0., 0., 0., 0., 0., 0.,\n",
       "        0., 0., 0., 0., 0., 0., 0., 0., 0., 0., 0., 0., 0., 0., 0., 0., 0.,\n",
       "        0., 0., 0., 0., 0., 0., 0., 0., 0., 0., 0., 0., 0., 0., 0., 0., 0.,\n",
       "        0., 0., 0., 0., 0., 0., 0., 0., 0., 0., 0., 0., 0., 0., 0., 0., 0.,\n",
       "        0., 0., 0., 0., 0., 0., 0., 0., 0., 0., 0., 0., 0., 0., 0., 0., 0.,\n",
       "        0., 0., 0., 0., 0., 0., 0., 0., 0., 0., 0., 0., 0., 0., 0., 0., 0.,\n",
       "        0., 0., 0., 0., 0., 0., 0., 0., 0., 0., 0.], dtype=float32)]"
      ]
     },
     "execution_count": 37,
     "metadata": {},
     "output_type": "execute_result"
    }
   ],
   "source": [
    "hidden1.get_weights()"
   ]
  },
  {
   "cell_type": "code",
   "execution_count": 38,
   "id": "f348a8dd",
   "metadata": {},
   "outputs": [],
   "source": [
    "weights, biases = hidden1.get_weights()"
   ]
  },
  {
   "cell_type": "code",
   "execution_count": 39,
   "id": "743f56f0",
   "metadata": {},
   "outputs": [
    {
     "data": {
      "text/plain": [
       "(784, 300)"
      ]
     },
     "execution_count": 39,
     "metadata": {},
     "output_type": "execute_result"
    }
   ],
   "source": [
    "weights.shape"
   ]
  },
  {
   "cell_type": "code",
   "execution_count": 40,
   "id": "dbcdfce6",
   "metadata": {},
   "outputs": [
    {
     "data": {
      "text/plain": [
       "(300,)"
      ]
     },
     "execution_count": 40,
     "metadata": {},
     "output_type": "execute_result"
    }
   ],
   "source": [
    "biases.shape"
   ]
  },
  {
   "cell_type": "code",
   "execution_count": 41,
   "id": "1c560bf2",
   "metadata": {},
   "outputs": [],
   "source": [
    "LOSS_FUNCTION = \"sparse_categorical_crossentropy\" # this is function give us error our objective is to reduce this error\n",
    "OPTIMIZER = \"SGD\" # how you updating weight Wnew=Wold+N(error)\n",
    "METRICS = [\"accuracy\"] # can de list of matrix\n",
    "\n",
    "model.compile(loss=LOSS_FUNCTION,\n",
    "              optimizer=OPTIMIZER,\n",
    "              metrics=METRICS)\n"
   ]
  },
  {
   "cell_type": "markdown",
   "id": "1791e3e6",
   "metadata": {},
   "source": [
    "### Important -\n",
    "\n",
    "* **Epochs**: Integer. \n",
    "    \n",
    "    Number of epochs to train the model. An epoch is an iteration over the entire x and y data provided. \n",
    "(for example if epoch is 30 that means 30 it will feed entire dataset but how we gonna feed the data \n",
    "that is important we feed by mentioning batch size)\n",
    "* **batch_size**: Integer or None. (NO OF SAMPLES IN EACH BATCHES)\n",
    "(Assume you have a dataset with 200 samples (rows of data) and you choose a batch size of 5 and 1,000 epochs.\n",
    "\n",
    "This means that the dataset will be divided into 40 batches, each with five samples. The model weights will be updated after each batch of five samples. by calculating average error.\n",
    "\n",
    "This also means that one epoch will involve 40 batches or 40 updates to the model.\n",
    "\n",
    "With 1,000 epochs, the model will be exposed to or pass through the whole dataset 1,000 times. That is a total of 40,000 batches during the entire training process.\n",
    "\n",
    "\n",
    "200*1000=200000(200 samole 1000 epoch so 200000 times)  40000*5=200000(40000 batches each batch contain 5 samples 200000 times))\n",
    "    \n",
    "    Number of samples per gradient update. If unspecified, batch_size will default to 32. \n",
    "    \n",
    "    *NOTE:* Do not specify the batch_size if your data is in the form of datasets, generators, or keras.utils.Sequence instances (since they generate batches).\n",
    "\n",
    "* **validation_batch_size**: Integer or None. \n",
    "\n",
    "    Number of samples per validation batch. \n",
    "    \n",
    "    If unspecified, will default to batch_size. \n",
    "    \n",
    "    *NOTE:* Do not specify the validation_batch_size if your data is in the form of datasets, generators, or keras.utils.Sequence instances (since they generate batches).\n",
    "\n",
    "[Reference](https://www.tensorflow.org/api_docs/python/tf/keras/Model?hl=zh-tw#fit)"
   ]
  },
  {
   "cell_type": "code",
   "execution_count": 42,
   "id": "a0c0e58a",
   "metadata": {},
   "outputs": [
    {
     "name": "stdout",
     "output_type": "stream",
     "text": [
      "Epoch 1/30\n",
      "1719/1719 [==============================] - 7s 4ms/step - loss: 0.6266 - accuracy: 0.8372 - val_loss: 0.3148 - val_accuracy: 0.9122\n",
      "Epoch 2/30\n",
      "1719/1719 [==============================] - 6s 4ms/step - loss: 0.2913 - accuracy: 0.9172 - val_loss: 0.2480 - val_accuracy: 0.9318\n",
      "Epoch 3/30\n",
      "1719/1719 [==============================] - 6s 3ms/step - loss: 0.2376 - accuracy: 0.9320 - val_loss: 0.2051 - val_accuracy: 0.9414\n",
      "Epoch 4/30\n",
      "1719/1719 [==============================] - 6s 3ms/step - loss: 0.2026 - accuracy: 0.9424 - val_loss: 0.1824 - val_accuracy: 0.9474\n",
      "Epoch 5/30\n",
      "1719/1719 [==============================] - 7s 4ms/step - loss: 0.1764 - accuracy: 0.9495 - val_loss: 0.1693 - val_accuracy: 0.9538\n",
      "Epoch 6/30\n",
      "1719/1719 [==============================] - 6s 4ms/step - loss: 0.1557 - accuracy: 0.9553 - val_loss: 0.1463 - val_accuracy: 0.9590\n",
      "Epoch 7/30\n",
      "1719/1719 [==============================] - 6s 4ms/step - loss: 0.1387 - accuracy: 0.9601 - val_loss: 0.1360 - val_accuracy: 0.9626\n",
      "Epoch 8/30\n",
      "1719/1719 [==============================] - 6s 3ms/step - loss: 0.1256 - accuracy: 0.9642 - val_loss: 0.1248 - val_accuracy: 0.9664\n",
      "Epoch 9/30\n",
      "1719/1719 [==============================] - 6s 3ms/step - loss: 0.1139 - accuracy: 0.9675 - val_loss: 0.1180 - val_accuracy: 0.9676\n",
      "Epoch 10/30\n",
      "1719/1719 [==============================] - 7s 4ms/step - loss: 0.1042 - accuracy: 0.9706 - val_loss: 0.1111 - val_accuracy: 0.9690\n",
      "Epoch 11/30\n",
      "1719/1719 [==============================] - 8s 5ms/step - loss: 0.0962 - accuracy: 0.9725 - val_loss: 0.1059 - val_accuracy: 0.9722\n",
      "Epoch 12/30\n",
      "1719/1719 [==============================] - 7s 4ms/step - loss: 0.0888 - accuracy: 0.9752 - val_loss: 0.1004 - val_accuracy: 0.9720\n",
      "Epoch 13/30\n",
      "1719/1719 [==============================] - 8s 4ms/step - loss: 0.0821 - accuracy: 0.9768 - val_loss: 0.0949 - val_accuracy: 0.9740\n",
      "Epoch 14/30\n",
      "1719/1719 [==============================] - 6s 4ms/step - loss: 0.0764 - accuracy: 0.9787 - val_loss: 0.0910 - val_accuracy: 0.9740\n",
      "Epoch 15/30\n",
      "1719/1719 [==============================] - 6s 3ms/step - loss: 0.0710 - accuracy: 0.9801 - val_loss: 0.0888 - val_accuracy: 0.9736\n",
      "Epoch 16/30\n",
      "1719/1719 [==============================] - 6s 3ms/step - loss: 0.0667 - accuracy: 0.9816 - val_loss: 0.0847 - val_accuracy: 0.9744\n",
      "Epoch 17/30\n",
      "1719/1719 [==============================] - 6s 3ms/step - loss: 0.0624 - accuracy: 0.9827 - val_loss: 0.0830 - val_accuracy: 0.9762\n",
      "Epoch 18/30\n",
      "1719/1719 [==============================] - 6s 3ms/step - loss: 0.0585 - accuracy: 0.9842 - val_loss: 0.0822 - val_accuracy: 0.9754\n",
      "Epoch 19/30\n",
      "1719/1719 [==============================] - 6s 3ms/step - loss: 0.0551 - accuracy: 0.9849 - val_loss: 0.0807 - val_accuracy: 0.9754\n",
      "Epoch 20/30\n",
      "1719/1719 [==============================] - 7s 4ms/step - loss: 0.0514 - accuracy: 0.9865 - val_loss: 0.0797 - val_accuracy: 0.9764\n",
      "Epoch 21/30\n",
      "1719/1719 [==============================] - 6s 3ms/step - loss: 0.0487 - accuracy: 0.9873 - val_loss: 0.0766 - val_accuracy: 0.9764\n",
      "Epoch 22/30\n",
      "1719/1719 [==============================] - 6s 3ms/step - loss: 0.0457 - accuracy: 0.9881 - val_loss: 0.0746 - val_accuracy: 0.9766\n",
      "Epoch 23/30\n",
      "1719/1719 [==============================] - 6s 4ms/step - loss: 0.0429 - accuracy: 0.9889 - val_loss: 0.0749 - val_accuracy: 0.9782\n",
      "Epoch 24/30\n",
      "1719/1719 [==============================] - 6s 4ms/step - loss: 0.0405 - accuracy: 0.9897 - val_loss: 0.0735 - val_accuracy: 0.9772\n",
      "Epoch 25/30\n",
      "1719/1719 [==============================] - 8s 4ms/step - loss: 0.0382 - accuracy: 0.9905 - val_loss: 0.0725 - val_accuracy: 0.9774\n",
      "Epoch 26/30\n",
      "1719/1719 [==============================] - 6s 4ms/step - loss: 0.0361 - accuracy: 0.9910 - val_loss: 0.0727 - val_accuracy: 0.9772\n",
      "Epoch 27/30\n",
      "1719/1719 [==============================] - 8s 4ms/step - loss: 0.0340 - accuracy: 0.9917 - val_loss: 0.0728 - val_accuracy: 0.9774\n",
      "Epoch 28/30\n",
      "1719/1719 [==============================] - 7s 4ms/step - loss: 0.0322 - accuracy: 0.9922 - val_loss: 0.0706 - val_accuracy: 0.9780\n",
      "Epoch 29/30\n",
      "1719/1719 [==============================] - 7s 4ms/step - loss: 0.0305 - accuracy: 0.9928 - val_loss: 0.0698 - val_accuracy: 0.9792\n",
      "Epoch 30/30\n",
      "1719/1719 [==============================] - 7s 4ms/step - loss: 0.0289 - accuracy: 0.9934 - val_loss: 0.0708 - val_accuracy: 0.9780\n"
     ]
    }
   ],
   "source": [
    "EPOCHS = 30\n",
    "VALIDATION_SET = (X_valid, y_valid)\n",
    "\n",
    "history = model.fit(X_train, y_train, \n",
    "                    epochs=EPOCHS, \n",
    "                    validation_data=VALIDATION_SET)"
   ]
  },
  {
   "cell_type": "code",
   "execution_count": 44,
   "id": "3c9f2fb5",
   "metadata": {},
   "outputs": [
    {
     "name": "stdout",
     "output_type": "stream",
     "text": [
      "1718.75\n",
      "55008\n"
     ]
    }
   ],
   "source": [
    "#x_train have 55000 data\n",
    "print(55000/32)# 1719 is sample in each batch 1719 weight update happen\n",
    "print(1719*32)# 1 epoch means 55008 samples or 1719*32 samples(no of batches*samples in each batches)\n",
    "\n",
    "# after passing one batch it calculate average error and update weight\n",
    "# so after passing one batch RAM has to remember all weights then update it so \n",
    "# if you have less memory then set batch size minimum"
   ]
  },
  {
   "cell_type": "code",
   "execution_count": 45,
   "id": "b839f96e",
   "metadata": {},
   "outputs": [
    {
     "name": "stdout",
     "output_type": "stream",
     "text": [
      "313/313 [==============================] - 1s 2ms/step - loss: 0.0711 - accuracy: 0.9788\n"
     ]
    },
    {
     "data": {
      "text/plain": [
       "[0.07107503712177277, 0.9787999987602234]"
      ]
     },
     "execution_count": 45,
     "metadata": {},
     "output_type": "execute_result"
    }
   ],
   "source": [
    "model.evaluate(X_test, y_test)"
   ]
  },
  {
   "cell_type": "code",
   "execution_count": 46,
   "id": "fa40751d",
   "metadata": {},
   "outputs": [
    {
     "data": {
      "text/plain": [
       "(10000, 28, 28)"
      ]
     },
     "execution_count": 46,
     "metadata": {},
     "output_type": "execute_result"
    }
   ],
   "source": [
    "X_test.shape"
   ]
  },
  {
   "cell_type": "code",
   "execution_count": 51,
   "id": "a7674a85",
   "metadata": {},
   "outputs": [
    {
     "data": {
      "text/plain": [
       "10016"
      ]
     },
     "execution_count": 51,
     "metadata": {},
     "output_type": "execute_result"
    }
   ],
   "source": [
    "313*32"
   ]
  },
  {
   "cell_type": "code",
   "execution_count": 47,
   "id": "39189653",
   "metadata": {},
   "outputs": [],
   "source": [
    "model.save(\"model.h5\")"
   ]
  },
  {
   "cell_type": "code",
   "execution_count": 48,
   "id": "08682934",
   "metadata": {},
   "outputs": [],
   "source": [
    "loaded_model = tf.keras.models.load_model(\"model.h5\")"
   ]
  },
  {
   "cell_type": "code",
   "execution_count": 49,
   "id": "66b41d96",
   "metadata": {},
   "outputs": [
    {
     "name": "stdout",
     "output_type": "stream",
     "text": [
      "313/313 [==============================] - 1s 2ms/step - loss: 0.0711 - accuracy: 0.9788\n"
     ]
    },
    {
     "data": {
      "text/plain": [
       "[0.07107503712177277, 0.9787999987602234]"
      ]
     },
     "execution_count": 49,
     "metadata": {},
     "output_type": "execute_result"
    }
   ],
   "source": [
    "loaded_model.evaluate(X_test, y_test)"
   ]
  },
  {
   "cell_type": "code",
   "execution_count": 52,
   "id": "65fea218",
   "metadata": {
    "collapsed": true
   },
   "outputs": [
    {
     "data": {
      "text/plain": [
       "{'loss': [0.6265579462051392,\n",
       "  0.29125839471817017,\n",
       "  0.2376268357038498,\n",
       "  0.20259380340576172,\n",
       "  0.17635412514209747,\n",
       "  0.15569333732128143,\n",
       "  0.13873033225536346,\n",
       "  0.1255940943956375,\n",
       "  0.11392910778522491,\n",
       "  0.10415256023406982,\n",
       "  0.09615321457386017,\n",
       "  0.08876235038042068,\n",
       "  0.08213497698307037,\n",
       "  0.07637756317853928,\n",
       "  0.0709867998957634,\n",
       "  0.06674737483263016,\n",
       "  0.06238013133406639,\n",
       "  0.05846076458692551,\n",
       "  0.05508563295006752,\n",
       "  0.051441799849271774,\n",
       "  0.04865952208638191,\n",
       "  0.04572666808962822,\n",
       "  0.042946457862854004,\n",
       "  0.04045497626066208,\n",
       "  0.03819771483540535,\n",
       "  0.03608579933643341,\n",
       "  0.033979058265686035,\n",
       "  0.032154373824596405,\n",
       "  0.030476031824946404,\n",
       "  0.028850724920630455],\n",
       " 'accuracy': [0.837218165397644,\n",
       "  0.9172363877296448,\n",
       "  0.9319636225700378,\n",
       "  0.9423636198043823,\n",
       "  0.9495454430580139,\n",
       "  0.9552545547485352,\n",
       "  0.9601091146469116,\n",
       "  0.9642000198364258,\n",
       "  0.9675272703170776,\n",
       "  0.9705818295478821,\n",
       "  0.972527265548706,\n",
       "  0.9751999974250793,\n",
       "  0.9768182039260864,\n",
       "  0.9786727428436279,\n",
       "  0.9801454544067383,\n",
       "  0.9815818071365356,\n",
       "  0.9826727509498596,\n",
       "  0.9842363595962524,\n",
       "  0.9848909378051758,\n",
       "  0.9865272641181946,\n",
       "  0.9872545599937439,\n",
       "  0.9880727529525757,\n",
       "  0.9888545274734497,\n",
       "  0.989727258682251,\n",
       "  0.9904545545578003,\n",
       "  0.9909999966621399,\n",
       "  0.9917091131210327,\n",
       "  0.9921818375587463,\n",
       "  0.9928363561630249,\n",
       "  0.993363618850708],\n",
       " 'val_loss': [0.3148250877857208,\n",
       "  0.24799585342407227,\n",
       "  0.20510439574718475,\n",
       "  0.18238723278045654,\n",
       "  0.16928893327713013,\n",
       "  0.14632561802864075,\n",
       "  0.13603071868419647,\n",
       "  0.12479999661445618,\n",
       "  0.11796493828296661,\n",
       "  0.11109644919633865,\n",
       "  0.10585474967956543,\n",
       "  0.1003633439540863,\n",
       "  0.09493402391672134,\n",
       "  0.0910092294216156,\n",
       "  0.08877008408308029,\n",
       "  0.08473804593086243,\n",
       "  0.08299395442008972,\n",
       "  0.08216775953769684,\n",
       "  0.08068732917308807,\n",
       "  0.0796721801161766,\n",
       "  0.0765714943408966,\n",
       "  0.07455085217952728,\n",
       "  0.07490915805101395,\n",
       "  0.07354580610990524,\n",
       "  0.07252409309148788,\n",
       "  0.07272148132324219,\n",
       "  0.0728016048669815,\n",
       "  0.07060567289590836,\n",
       "  0.06983574479818344,\n",
       "  0.07080880552530289],\n",
       " 'val_accuracy': [0.9121999740600586,\n",
       "  0.9318000078201294,\n",
       "  0.9413999915122986,\n",
       "  0.9473999738693237,\n",
       "  0.9538000226020813,\n",
       "  0.9589999914169312,\n",
       "  0.9625999927520752,\n",
       "  0.9664000272750854,\n",
       "  0.9675999879837036,\n",
       "  0.968999981880188,\n",
       "  0.9721999764442444,\n",
       "  0.972000002861023,\n",
       "  0.9739999771118164,\n",
       "  0.9739999771118164,\n",
       "  0.9735999703407288,\n",
       "  0.974399983882904,\n",
       "  0.9761999845504761,\n",
       "  0.9753999710083008,\n",
       "  0.9753999710083008,\n",
       "  0.9764000177383423,\n",
       "  0.9764000177383423,\n",
       "  0.9765999913215637,\n",
       "  0.9782000184059143,\n",
       "  0.9771999716758728,\n",
       "  0.977400004863739,\n",
       "  0.9771999716758728,\n",
       "  0.977400004863739,\n",
       "  0.9779999852180481,\n",
       "  0.979200005531311,\n",
       "  0.9779999852180481]}"
      ]
     },
     "execution_count": 52,
     "metadata": {},
     "output_type": "execute_result"
    }
   ],
   "source": [
    "history.history"
   ]
  },
  {
   "cell_type": "code",
   "execution_count": 53,
   "id": "7807a8bd",
   "metadata": {},
   "outputs": [
    {
     "data": {
      "text/plain": [
       "dict"
      ]
     },
     "execution_count": 53,
     "metadata": {},
     "output_type": "execute_result"
    }
   ],
   "source": [
    "type(history.history)"
   ]
  },
  {
   "cell_type": "code",
   "execution_count": 50,
   "id": "fea89792",
   "metadata": {},
   "outputs": [
    {
     "data": {
      "text/html": [
       "<div>\n",
       "<style scoped>\n",
       "    .dataframe tbody tr th:only-of-type {\n",
       "        vertical-align: middle;\n",
       "    }\n",
       "\n",
       "    .dataframe tbody tr th {\n",
       "        vertical-align: top;\n",
       "    }\n",
       "\n",
       "    .dataframe thead th {\n",
       "        text-align: right;\n",
       "    }\n",
       "</style>\n",
       "<table border=\"1\" class=\"dataframe\">\n",
       "  <thead>\n",
       "    <tr style=\"text-align: right;\">\n",
       "      <th></th>\n",
       "      <th>loss</th>\n",
       "      <th>accuracy</th>\n",
       "      <th>val_loss</th>\n",
       "      <th>val_accuracy</th>\n",
       "    </tr>\n",
       "  </thead>\n",
       "  <tbody>\n",
       "    <tr>\n",
       "      <th>0</th>\n",
       "      <td>0.626558</td>\n",
       "      <td>0.837218</td>\n",
       "      <td>0.314825</td>\n",
       "      <td>0.9122</td>\n",
       "    </tr>\n",
       "    <tr>\n",
       "      <th>1</th>\n",
       "      <td>0.291258</td>\n",
       "      <td>0.917236</td>\n",
       "      <td>0.247996</td>\n",
       "      <td>0.9318</td>\n",
       "    </tr>\n",
       "    <tr>\n",
       "      <th>2</th>\n",
       "      <td>0.237627</td>\n",
       "      <td>0.931964</td>\n",
       "      <td>0.205104</td>\n",
       "      <td>0.9414</td>\n",
       "    </tr>\n",
       "    <tr>\n",
       "      <th>3</th>\n",
       "      <td>0.202594</td>\n",
       "      <td>0.942364</td>\n",
       "      <td>0.182387</td>\n",
       "      <td>0.9474</td>\n",
       "    </tr>\n",
       "    <tr>\n",
       "      <th>4</th>\n",
       "      <td>0.176354</td>\n",
       "      <td>0.949545</td>\n",
       "      <td>0.169289</td>\n",
       "      <td>0.9538</td>\n",
       "    </tr>\n",
       "    <tr>\n",
       "      <th>5</th>\n",
       "      <td>0.155693</td>\n",
       "      <td>0.955255</td>\n",
       "      <td>0.146326</td>\n",
       "      <td>0.9590</td>\n",
       "    </tr>\n",
       "    <tr>\n",
       "      <th>6</th>\n",
       "      <td>0.138730</td>\n",
       "      <td>0.960109</td>\n",
       "      <td>0.136031</td>\n",
       "      <td>0.9626</td>\n",
       "    </tr>\n",
       "    <tr>\n",
       "      <th>7</th>\n",
       "      <td>0.125594</td>\n",
       "      <td>0.964200</td>\n",
       "      <td>0.124800</td>\n",
       "      <td>0.9664</td>\n",
       "    </tr>\n",
       "    <tr>\n",
       "      <th>8</th>\n",
       "      <td>0.113929</td>\n",
       "      <td>0.967527</td>\n",
       "      <td>0.117965</td>\n",
       "      <td>0.9676</td>\n",
       "    </tr>\n",
       "    <tr>\n",
       "      <th>9</th>\n",
       "      <td>0.104153</td>\n",
       "      <td>0.970582</td>\n",
       "      <td>0.111096</td>\n",
       "      <td>0.9690</td>\n",
       "    </tr>\n",
       "    <tr>\n",
       "      <th>10</th>\n",
       "      <td>0.096153</td>\n",
       "      <td>0.972527</td>\n",
       "      <td>0.105855</td>\n",
       "      <td>0.9722</td>\n",
       "    </tr>\n",
       "    <tr>\n",
       "      <th>11</th>\n",
       "      <td>0.088762</td>\n",
       "      <td>0.975200</td>\n",
       "      <td>0.100363</td>\n",
       "      <td>0.9720</td>\n",
       "    </tr>\n",
       "    <tr>\n",
       "      <th>12</th>\n",
       "      <td>0.082135</td>\n",
       "      <td>0.976818</td>\n",
       "      <td>0.094934</td>\n",
       "      <td>0.9740</td>\n",
       "    </tr>\n",
       "    <tr>\n",
       "      <th>13</th>\n",
       "      <td>0.076378</td>\n",
       "      <td>0.978673</td>\n",
       "      <td>0.091009</td>\n",
       "      <td>0.9740</td>\n",
       "    </tr>\n",
       "    <tr>\n",
       "      <th>14</th>\n",
       "      <td>0.070987</td>\n",
       "      <td>0.980145</td>\n",
       "      <td>0.088770</td>\n",
       "      <td>0.9736</td>\n",
       "    </tr>\n",
       "    <tr>\n",
       "      <th>15</th>\n",
       "      <td>0.066747</td>\n",
       "      <td>0.981582</td>\n",
       "      <td>0.084738</td>\n",
       "      <td>0.9744</td>\n",
       "    </tr>\n",
       "    <tr>\n",
       "      <th>16</th>\n",
       "      <td>0.062380</td>\n",
       "      <td>0.982673</td>\n",
       "      <td>0.082994</td>\n",
       "      <td>0.9762</td>\n",
       "    </tr>\n",
       "    <tr>\n",
       "      <th>17</th>\n",
       "      <td>0.058461</td>\n",
       "      <td>0.984236</td>\n",
       "      <td>0.082168</td>\n",
       "      <td>0.9754</td>\n",
       "    </tr>\n",
       "    <tr>\n",
       "      <th>18</th>\n",
       "      <td>0.055086</td>\n",
       "      <td>0.984891</td>\n",
       "      <td>0.080687</td>\n",
       "      <td>0.9754</td>\n",
       "    </tr>\n",
       "    <tr>\n",
       "      <th>19</th>\n",
       "      <td>0.051442</td>\n",
       "      <td>0.986527</td>\n",
       "      <td>0.079672</td>\n",
       "      <td>0.9764</td>\n",
       "    </tr>\n",
       "    <tr>\n",
       "      <th>20</th>\n",
       "      <td>0.048660</td>\n",
       "      <td>0.987255</td>\n",
       "      <td>0.076571</td>\n",
       "      <td>0.9764</td>\n",
       "    </tr>\n",
       "    <tr>\n",
       "      <th>21</th>\n",
       "      <td>0.045727</td>\n",
       "      <td>0.988073</td>\n",
       "      <td>0.074551</td>\n",
       "      <td>0.9766</td>\n",
       "    </tr>\n",
       "    <tr>\n",
       "      <th>22</th>\n",
       "      <td>0.042946</td>\n",
       "      <td>0.988855</td>\n",
       "      <td>0.074909</td>\n",
       "      <td>0.9782</td>\n",
       "    </tr>\n",
       "    <tr>\n",
       "      <th>23</th>\n",
       "      <td>0.040455</td>\n",
       "      <td>0.989727</td>\n",
       "      <td>0.073546</td>\n",
       "      <td>0.9772</td>\n",
       "    </tr>\n",
       "    <tr>\n",
       "      <th>24</th>\n",
       "      <td>0.038198</td>\n",
       "      <td>0.990455</td>\n",
       "      <td>0.072524</td>\n",
       "      <td>0.9774</td>\n",
       "    </tr>\n",
       "    <tr>\n",
       "      <th>25</th>\n",
       "      <td>0.036086</td>\n",
       "      <td>0.991000</td>\n",
       "      <td>0.072721</td>\n",
       "      <td>0.9772</td>\n",
       "    </tr>\n",
       "    <tr>\n",
       "      <th>26</th>\n",
       "      <td>0.033979</td>\n",
       "      <td>0.991709</td>\n",
       "      <td>0.072802</td>\n",
       "      <td>0.9774</td>\n",
       "    </tr>\n",
       "    <tr>\n",
       "      <th>27</th>\n",
       "      <td>0.032154</td>\n",
       "      <td>0.992182</td>\n",
       "      <td>0.070606</td>\n",
       "      <td>0.9780</td>\n",
       "    </tr>\n",
       "    <tr>\n",
       "      <th>28</th>\n",
       "      <td>0.030476</td>\n",
       "      <td>0.992836</td>\n",
       "      <td>0.069836</td>\n",
       "      <td>0.9792</td>\n",
       "    </tr>\n",
       "    <tr>\n",
       "      <th>29</th>\n",
       "      <td>0.028851</td>\n",
       "      <td>0.993364</td>\n",
       "      <td>0.070809</td>\n",
       "      <td>0.9780</td>\n",
       "    </tr>\n",
       "  </tbody>\n",
       "</table>\n",
       "</div>"
      ],
      "text/plain": [
       "        loss  accuracy  val_loss  val_accuracy\n",
       "0   0.626558  0.837218  0.314825        0.9122\n",
       "1   0.291258  0.917236  0.247996        0.9318\n",
       "2   0.237627  0.931964  0.205104        0.9414\n",
       "3   0.202594  0.942364  0.182387        0.9474\n",
       "4   0.176354  0.949545  0.169289        0.9538\n",
       "5   0.155693  0.955255  0.146326        0.9590\n",
       "6   0.138730  0.960109  0.136031        0.9626\n",
       "7   0.125594  0.964200  0.124800        0.9664\n",
       "8   0.113929  0.967527  0.117965        0.9676\n",
       "9   0.104153  0.970582  0.111096        0.9690\n",
       "10  0.096153  0.972527  0.105855        0.9722\n",
       "11  0.088762  0.975200  0.100363        0.9720\n",
       "12  0.082135  0.976818  0.094934        0.9740\n",
       "13  0.076378  0.978673  0.091009        0.9740\n",
       "14  0.070987  0.980145  0.088770        0.9736\n",
       "15  0.066747  0.981582  0.084738        0.9744\n",
       "16  0.062380  0.982673  0.082994        0.9762\n",
       "17  0.058461  0.984236  0.082168        0.9754\n",
       "18  0.055086  0.984891  0.080687        0.9754\n",
       "19  0.051442  0.986527  0.079672        0.9764\n",
       "20  0.048660  0.987255  0.076571        0.9764\n",
       "21  0.045727  0.988073  0.074551        0.9766\n",
       "22  0.042946  0.988855  0.074909        0.9782\n",
       "23  0.040455  0.989727  0.073546        0.9772\n",
       "24  0.038198  0.990455  0.072524        0.9774\n",
       "25  0.036086  0.991000  0.072721        0.9772\n",
       "26  0.033979  0.991709  0.072802        0.9774\n",
       "27  0.032154  0.992182  0.070606        0.9780\n",
       "28  0.030476  0.992836  0.069836        0.9792\n",
       "29  0.028851  0.993364  0.070809        0.9780"
      ]
     },
     "execution_count": 50,
     "metadata": {},
     "output_type": "execute_result"
    }
   ],
   "source": [
    "pd.DataFrame(history.history)"
   ]
  },
  {
   "cell_type": "code",
   "execution_count": 54,
   "id": "675d9086",
   "metadata": {},
   "outputs": [
    {
     "data": {
      "image/png": "[encoded data removed]",
      "text/plain": [
       "<Figure size 576x360 with 1 Axes>"
      ]
     },
     "metadata": {
      "needs_background": "light"
     },
     "output_type": "display_data"
    }
   ],
   "source": [
    "pd.DataFrame(history.history).plot(figsize=(8,5))\n",
    "plt.grid(True)\n",
    "plt.gca().set_ylim(0,1)\n",
    "plt.show()"
   ]
  },
  {
   "cell_type": "code",
   "execution_count": 58,
   "id": "ae4bc998",
   "metadata": {},
   "outputs": [
    {
     "data": {
      "text/plain": [
       "array([[0., 0., 0., 0., 0., 0., 0., 1., 0., 0.],\n",
       "       [0., 0., 1., 0., 0., 0., 0., 0., 0., 0.],\n",
       "       [0., 1., 0., 0., 0., 0., 0., 0., 0., 0.]], dtype=float32)"
      ]
     },
     "execution_count": 58,
     "metadata": {},
     "output_type": "execute_result"
    }
   ],
   "source": [
    "X_new = X_test[:3]\n",
    "y_new = y_test[:3]\n",
    "y_proba = model.predict(X_new)\n",
    "y_proba.round(2)"
   ]
  },
  {
   "cell_type": "code",
   "execution_count": 56,
   "id": "cc66de4d",
   "metadata": {},
   "outputs": [
    {
     "data": {
      "text/plain": [
       "(array([7, 2, 1], dtype=int64), array([7, 2, 1], dtype=uint8))"
      ]
     },
     "execution_count": 56,
     "metadata": {},
     "output_type": "execute_result"
    }
   ],
   "source": [
    "y_pred = np.argmax(y_proba, axis=-1)\n",
    "y_pred, y_new"
   ]
  },
  {
   "cell_type": "code",
   "execution_count": 61,
   "id": "65c1823c",
   "metadata": {},
   "outputs": [
    {
     "data": {
      "image/png": "[encoded data removed]",
      "text/plain": [
       "<Figure size 432x288 with 1 Axes>"
      ]
     },
     "metadata": {
      "needs_background": "light"
     },
     "output_type": "display_data"
    },
    {
     "name": "stdout",
     "output_type": "stream",
     "text": [
      "------------------------------------------------------------\n"
     ]
    },
    {
     "data": {
      "image/png": "[encoded data removed]",
      "text/plain": [
       "<Figure size 432x288 with 1 Axes>"
      ]
     },
     "metadata": {
      "needs_background": "light"
     },
     "output_type": "display_data"
    },
    {
     "name": "stdout",
     "output_type": "stream",
     "text": [
      "------------------------------------------------------------\n"
     ]
    },
    {
     "data": {
      "image/png": "[encoded data removed]",
      "text/plain": [
       "<Figure size 432x288 with 1 Axes>"
      ]
     },
     "metadata": {
      "needs_background": "light"
     },
     "output_type": "display_data"
    },
    {
     "name": "stdout",
     "output_type": "stream",
     "text": [
      "------------------------------------------------------------\n"
     ]
    }
   ],
   "source": [
    "for data, pred, actual in zip(X_new, y_pred, y_new):\n",
    "  plt.imshow(data, cmap=\"binary\")\n",
    "  plt.title(f\"Predicted: {pred}, Actual: {actual}\")\n",
    "  plt.axis(\"off\")\n",
    "  plt.show()\n",
    "  print(\"---\"*20)"
   ]
  },
  {
   "cell_type": "markdown",
   "id": "a8084436",
   "metadata": {},
   "source": [
    "# CALL BACKS"
   ]
  },
  {
   "cell_type": "code",
   "execution_count": 62,
   "id": "b24d1164",
   "metadata": {},
   "outputs": [],
   "source": [
    "# Its a function which give us more info"
   ]
  },
  {
   "cell_type": "code",
   "execution_count": 63,
   "id": "3bd04665",
   "metadata": {},
   "outputs": [],
   "source": [
    "mnist = tf.keras.datasets.mnist\n",
    "(X_train_full, y_train_full), (X_test, y_test) = mnist.load_data()"
   ]
  },
  {
   "cell_type": "code",
   "execution_count": 64,
   "id": "657cdcbf",
   "metadata": {},
   "outputs": [],
   "source": [
    "# Normalize data and create Validation data\n",
    "X_valid, X_train = X_train_full[: 5000] / 255., X_train_full[5000: ]/255.\n",
    "y_valid, y_train = y_train_full[: 5000], y_train_full[5000:]\n",
    "\n",
    "X_test = X_test/255."
   ]
  },
  {
   "cell_type": "code",
   "execution_count": 65,
   "id": "20e42fdb",
   "metadata": {},
   "outputs": [],
   "source": [
    "# writing samples to tensor board"
   ]
  },
  {
   "cell_type": "code",
   "execution_count": 66,
   "id": "37857c07",
   "metadata": {},
   "outputs": [],
   "source": [
    "## Get unique timestamp\n",
    "\n",
    "import time\n",
    "\n",
    "def get_timestamp():\n",
    "    return time.asctime().replace(\" \", \"_\").replace(\":\", \"\")"
   ]
  },
  {
   "cell_type": "code",
   "execution_count": 67,
   "id": "cd631559",
   "metadata": {},
   "outputs": [
    {
     "data": {
      "text/plain": [
       "'Wed_Mar_30_201128_2022'"
      ]
     },
     "execution_count": 67,
     "metadata": {},
     "output_type": "execute_result"
    }
   ],
   "source": [
    "get_timestamp()"
   ]
  },
  {
   "cell_type": "code",
   "execution_count": 69,
   "id": "e8c50405",
   "metadata": {},
   "outputs": [
    {
     "name": "stdout",
     "output_type": "stream",
     "text": [
      "logs will be saved at: logs/fit\\Wed_Mar_30_201238_2022\n"
     ]
    },
    {
     "data": {
      "text/plain": [
       "'logs/fit\\\\Wed_Mar_30_201238_2022'"
      ]
     },
     "execution_count": 69,
     "metadata": {},
     "output_type": "execute_result"
    }
   ],
   "source": [
    "import os\n",
    "def get_log_dir_path(log_dir=\"logs/fit\"):\n",
    "    log_path = os.path.join(log_dir, get_timestamp())\n",
    "    print(f\"logs will be saved at: {log_path}\")\n",
    "    return log_path\n",
    "\n",
    "log_dir = get_log_dir_path()\n",
    "log_dir"
   ]
  },
  {
   "cell_type": "code",
   "execution_count": 70,
   "id": "79856ae9",
   "metadata": {},
   "outputs": [],
   "source": [
    "file_writer = tf.summary.create_file_writer(logdir=log_dir)"
   ]
  },
  {
   "cell_type": "code",
   "execution_count": 71,
   "id": "c65b5d8e",
   "metadata": {},
   "outputs": [],
   "source": [
    "with file_writer.as_default():\n",
    "    images = np.reshape(X_train[10: 30], (-1, 28, 28, 1))\n",
    "    tf.summary.image(\"20 handwritten digit samples\", images, max_outputs=25, step=0)"
   ]
  },
  {
   "cell_type": "code",
   "execution_count": 72,
   "id": "50921cbf",
   "metadata": {},
   "outputs": [],
   "source": [
    "%load_ext tensorboard"
   ]
  },
  {
   "cell_type": "code",
   "execution_count": 73,
   "id": "9bbdf0c0",
   "metadata": {},
   "outputs": [
    {
     "data": {
      "text/html": [
       "\n",
       "      <iframe id=\"tensorboard-frame-9c31f2f92b481e7c\" width=\"100%\" height=\"800\" frameborder=\"0\">\n",
       "      </iframe>\n",
       "      <script>\n",
       "        (function() {\n",
       "          const frame = document.getElementById(\"tensorboard-frame-9c31f2f92b481e7c\");\n",
       "          const url = new URL(\"/\", window.location);\n",
       "          const port = 6006;\n",
       "          if (port) {\n",
       "            url.port = port;\n",
       "          }\n",
       "          frame.src = url;\n",
       "        })();\n",
       "      </script>\n",
       "    "
      ],
      "text/plain": [
       "<IPython.core.display.HTML object>"
      ]
     },
     "metadata": {},
     "output_type": "display_data"
    }
   ],
   "source": [
    "%tensorboard --logdir logs/fit"
   ]
  },
  {
   "cell_type": "code",
   "execution_count": 74,
   "id": "2fd86ec6",
   "metadata": {},
   "outputs": [],
   "source": [
    "LAYERS = [\n",
    "          tf.keras.layers.Flatten(input_shape=[28, 28], name=\"inputLayer\"),\n",
    "          tf.keras.layers.Dense(300, activation=\"relu\", name=\"hiddenLayer1\"),\n",
    "          tf.keras.layers.Dense(100, activation=\"relu\", name=\"hiddenLayer2\"),\n",
    "          tf.keras.layers.Dense(10, activation=\"softmax\", name=\"outputLayer\"),\n",
    "          \n",
    "]"
   ]
  },
  {
   "cell_type": "code",
   "execution_count": 75,
   "id": "066f082f",
   "metadata": {},
   "outputs": [],
   "source": [
    "LOSS_FUNCTION = \"sparse_categorical_crossentropy\"\n",
    "OPTIMIZER = \"SGD\"\n",
    "METRICS = [\"accuracy\"]\n",
    "\n",
    "model.compile(loss=LOSS_FUNCTION,\n",
    "              optimizer=OPTIMIZER,\n",
    "              metrics=METRICS)\n"
   ]
  },
  {
   "cell_type": "code",
   "execution_count": 76,
   "id": "523931c1",
   "metadata": {},
   "outputs": [],
   "source": [
    "tensorboard_cb = tf.keras.callbacks.TensorBoard(log_dir=log_dir)"
   ]
  },
  {
   "cell_type": "code",
   "execution_count": 77,
   "id": "7a3d1b3b",
   "metadata": {},
   "outputs": [],
   "source": [
    "early_stopping_cb = tf.keras.callbacks.EarlyStopping(patience=5, restore_best_weights=True) # stop training earlier save \n",
    "# resource \n",
    "# patience=if validation loss not decrease in 5 epoch it will stop\n",
    "# restore_best_weights= if your in 5 th epoch and you observe 2 nd epoch give best weight so it will store previous \n",
    "# best weight which will give you better accuracy or loss"
   ]
  },
  {
   "cell_type": "code",
   "execution_count": 78,
   "id": "377f5386",
   "metadata": {},
   "outputs": [],
   "source": [
    "# if you do 1000 epoch and in 500 epoch power will cut so we have to traig again\n",
    "# check point help us to restore training\n",
    "# save_best_only=True means it will save best weight(better accuracy or loss) if you use False then it will save last weight\n",
    "CKPT_Path = \"model_ckpt.h5\"\n",
    "\n",
    "checkpoint_cb = tf.keras.callbacks.ModelCheckpoint(CKPT_Path, save_best_only=True)"
   ]
  },
  {
   "cell_type": "code",
   "execution_count": 79,
   "id": "af5a296b",
   "metadata": {},
   "outputs": [],
   "source": [
    "LIST_OF_CALLBACKS = [tensorboard_cb, early_stopping_cb, checkpoint_cb]"
   ]
  },
  {
   "cell_type": "code",
   "execution_count": 80,
   "id": "02d91177",
   "metadata": {},
   "outputs": [
    {
     "name": "stdout",
     "output_type": "stream",
     "text": [
      "Epoch 1/300\n",
      "1719/1719 [==============================] - 6s 3ms/step - loss: 0.0271 - accuracy: 0.9938 - val_loss: 0.0700 - val_accuracy: 0.9782\n",
      "Epoch 2/300\n",
      "1719/1719 [==============================] - 6s 4ms/step - loss: 0.0258 - accuracy: 0.9942 - val_loss: 0.0685 - val_accuracy: 0.9788\n",
      "Epoch 3/300\n",
      "1719/1719 [==============================] - 6s 3ms/step - loss: 0.0244 - accuracy: 0.9947 - val_loss: 0.0686 - val_accuracy: 0.9794\n",
      "Epoch 4/300\n",
      "1719/1719 [==============================] - 6s 4ms/step - loss: 0.0231 - accuracy: 0.9951 - val_loss: 0.0704 - val_accuracy: 0.9786\n",
      "Epoch 5/300\n",
      "1719/1719 [==============================] - 6s 4ms/step - loss: 0.0218 - accuracy: 0.9957 - val_loss: 0.0679 - val_accuracy: 0.9792\n",
      "Epoch 6/300\n",
      "1719/1719 [==============================] - 6s 4ms/step - loss: 0.0207 - accuracy: 0.9962 - val_loss: 0.0676 - val_accuracy: 0.9788\n",
      "Epoch 7/300\n",
      "1719/1719 [==============================] - 6s 4ms/step - loss: 0.0197 - accuracy: 0.9966 - val_loss: 0.0669 - val_accuracy: 0.9794\n",
      "Epoch 8/300\n",
      "1719/1719 [==============================] - 7s 4ms/step - loss: 0.0186 - accuracy: 0.9968 - val_loss: 0.0673 - val_accuracy: 0.9796\n",
      "Epoch 9/300\n",
      "1719/1719 [==============================] - 7s 4ms/step - loss: 0.0176 - accuracy: 0.9973 - val_loss: 0.0675 - val_accuracy: 0.9790\n",
      "Epoch 10/300\n",
      "1719/1719 [==============================] - 6s 4ms/step - loss: 0.0168 - accuracy: 0.9974 - val_loss: 0.0681 - val_accuracy: 0.9788\n",
      "Epoch 11/300\n",
      "1719/1719 [==============================] - 6s 3ms/step - loss: 0.0161 - accuracy: 0.9976 - val_loss: 0.0674 - val_accuracy: 0.9802\n",
      "Epoch 12/300\n",
      "1719/1719 [==============================] - 6s 4ms/step - loss: 0.0153 - accuracy: 0.9980 - val_loss: 0.0673 - val_accuracy: 0.9798\n"
     ]
    }
   ],
   "source": [
    "EPOCHS = 300\n",
    "VALIDATION_SET = (X_valid, y_valid)\n",
    "\n",
    "history = model.fit(X_train, y_train, \n",
    "                    epochs=EPOCHS, \n",
    "                    validation_data=VALIDATION_SET, callbacks=LIST_OF_CALLBACKS)"
   ]
  },
  {
   "cell_type": "code",
   "execution_count": 81,
   "id": "50a27345",
   "metadata": {},
   "outputs": [],
   "source": [
    "# not running 300 epoch it stops at 12 epochs"
   ]
  },
  {
   "cell_type": "code",
   "execution_count": 82,
   "id": "1a5cf6da",
   "metadata": {},
   "outputs": [],
   "source": [
    "ckpt_model = tf.keras.models.load_model(CKPT_Path)"
   ]
  },
  {
   "cell_type": "code",
   "execution_count": 83,
   "id": "ccb13b0a",
   "metadata": {},
   "outputs": [
    {
     "name": "stdout",
     "output_type": "stream",
     "text": [
      "Epoch 1/300\n",
      "1719/1719 [==============================] - 6s 4ms/step - loss: 0.0186 - accuracy: 0.9969 - val_loss: 0.0690 - val_accuracy: 0.9796\n",
      "Epoch 2/300\n",
      "1719/1719 [==============================] - 6s 3ms/step - loss: 0.0178 - accuracy: 0.9970 - val_loss: 0.0675 - val_accuracy: 0.9798\n",
      "Epoch 3/300\n",
      "1719/1719 [==============================] - 6s 3ms/step - loss: 0.0168 - accuracy: 0.9975 - val_loss: 0.0665 - val_accuracy: 0.9800\n",
      "Epoch 4/300\n",
      "1719/1719 [==============================] - 6s 3ms/step - loss: 0.0160 - accuracy: 0.9978 - val_loss: 0.0675 - val_accuracy: 0.9796\n",
      "Epoch 5/300\n",
      "1719/1719 [==============================] - 6s 4ms/step - loss: 0.0152 - accuracy: 0.9979 - val_loss: 0.0669 - val_accuracy: 0.9802\n",
      "Epoch 6/300\n",
      "1719/1719 [==============================] - 6s 3ms/step - loss: 0.0145 - accuracy: 0.9983 - val_loss: 0.0687 - val_accuracy: 0.9810\n",
      "Epoch 7/300\n",
      "1719/1719 [==============================] - 6s 4ms/step - loss: 0.0137 - accuracy: 0.9984 - val_loss: 0.0693 - val_accuracy: 0.9802\n",
      "Epoch 8/300\n",
      "1719/1719 [==============================] - 6s 3ms/step - loss: 0.0133 - accuracy: 0.9984 - val_loss: 0.0682 - val_accuracy: 0.9804\n"
     ]
    }
   ],
   "source": [
    "# it will start where we left\n",
    "ckpt_history = ckpt_model.fit(X_train, y_train, \n",
    "                    epochs=EPOCHS, \n",
    "                    validation_data=VALIDATION_SET, callbacks=LIST_OF_CALLBACKS)"
   ]
  },
  {
   "cell_type": "code",
   "execution_count": null,
   "id": "309d29ca",
   "metadata": {},
   "outputs": [],
   "source": []
  }
 ],
 "metadata": {
  "kernelspec": {
   "display_name": "Python 3",
   "language": "python",
   "name": "python3"
  },
  "language_info": {
   "codemirror_mode": {
    "name": "ipython",
    "version": 3
   },
   "file_extension": ".py",
   "mimetype": "text/x-python",
   "name": "python",
   "nbconvert_exporter": "python",
   "pygments_lexer": "ipython3",
   "version": "3.8.8"
  }
 },
 "nbformat": 4,
 "nbformat_minor": 5
}
